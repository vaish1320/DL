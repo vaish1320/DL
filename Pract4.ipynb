{
 "cells": [
  {
   "cell_type": "code",
   "execution_count": 13,
   "metadata": {},
   "outputs": [],
   "source": [
    "import pandas as pd\n",
    "import numpy as np\n",
    "import tensorflow as tf\n",
    "import matplotlib.pyplot as plt\n",
    "import seaborn as sns\n",
    "from sklearn.model_selection import train_test_split\n",
    "from sklearn.preprocessing import StandardScaler\n",
    "from sklearn.metrics import confusion_matrix, recall_score, accuracy_score, precision_score\n"
   ]
  },
  {
   "cell_type": "code",
   "execution_count": 14,
   "metadata": {},
   "outputs": [],
   "source": [
    "RANDOM_SEED = 2021\n",
    "TEST_PCT = 0.3\n",
    "LABELS = [\"Normal\", \"Fraud\"]"
   ]
  },
  {
   "cell_type": "code",
   "execution_count": 15,
   "metadata": {},
   "outputs": [
    {
     "name": "stdout",
     "output_type": "stream",
     "text": [
      "Any nulls in the dataset False\n",
      "Label values [0 1]\n"
     ]
    }
   ],
   "source": [
    "dataset = pd.read_csv(\"creditcard.csv\")\n",
    "print(\"Any nulls in the dataset\", dataset.isnull().values.any())\n",
    "print(\"Label values\", dataset['Class'].unique())\n"
   ]
  },
  {
   "cell_type": "code",
   "execution_count": 16,
   "metadata": {},
   "outputs": [
    {
     "name": "stderr",
     "output_type": "stream",
     "text": [
      "/var/folders/gx/wnn6g1zj2l34xj09st_d176r0000gn/T/ipykernel_44092/3819715063.py:1: FutureWarning: pandas.value_counts is deprecated and will be removed in a future version. Use pd.Series(obj).value_counts() instead.\n",
      "  count_classes = pd.value_counts(dataset['Class'], sort=True)\n"
     ]
    },
    {
     "data": {
      "image/png": "[encoded data removed]",
      "text/plain": [
       "<Figure size 640x480 with 1 Axes>"
      ]
     },
     "metadata": {},
     "output_type": "display_data"
    }
   ],
   "source": [
    "count_classes = pd.value_counts(dataset['Class'], sort=True)\n",
    "count_classes.plot(kind='bar', rot=0)\n",
    "plt.title(\"Frequency by observation number\")\n",
    "plt.xlabel(\"Class\")\n",
    "plt.ylabel(\"Number of Observations\")\n",
    "plt.show()\n"
   ]
  },
  {
   "cell_type": "code",
   "execution_count": 17,
   "metadata": {},
   "outputs": [],
   "source": [
    "sc = StandardScaler()\n",
    "dataset['Time'] = sc.fit_transform(dataset['Time'].values.reshape(-1, 1))\n",
    "dataset['Amount'] = sc.fit_transform(dataset['Amount'].values.reshape(-1, 1))\n"
   ]
  },
  {
   "cell_type": "code",
   "execution_count": 18,
   "metadata": {},
   "outputs": [],
   "source": [
    "train_data, test_data, train_labels, test_labels = train_test_split(\n",
    "    dataset.drop(columns='Class').values,\n",
    "    dataset['Class'].values,\n",
    "    test_size=0.3,\n",
    "    random_state=RANDOM_SEED\n",
    ")\n"
   ]
  },
  {
   "cell_type": "code",
   "execution_count": 19,
   "metadata": {},
   "outputs": [],
   "source": [
    "min_val = tf.reduce_min(train_data)\n",
    "max_val = tf.reduce_max(train_data)\n",
    "train_data = (train_data - min_val) / (max_val - min_val)\n",
    "test_data = (test_data - min_val) / (max_val - min_val)\n"
   ]
  },
  {
   "cell_type": "code",
   "execution_count": 20,
   "metadata": {},
   "outputs": [
    {
     "name": "stdout",
     "output_type": "stream",
     "text": [
      "Model: \"model_2\"\n",
      "_________________________________________________________________\n",
      " Layer (type)                Output Shape              Param #   \n",
      "=================================================================\n",
      " input_3 (InputLayer)        [(None, 30)]              0         \n",
      "                                                                 \n",
      " dense_8 (Dense)             (None, 14)                434       \n",
      "                                                                 \n",
      " dropout (Dropout)           (None, 14)                0         \n",
      "                                                                 \n",
      " dense_9 (Dense)             (None, 7)                 105       \n",
      "                                                                 \n",
      " dense_10 (Dense)            (None, 4)                 32        \n",
      "                                                                 \n",
      " dense_11 (Dense)            (None, 7)                 35        \n",
      "                                                                 \n",
      " dropout_1 (Dropout)         (None, 7)                 0         \n",
      "                                                                 \n",
      " dense_12 (Dense)            (None, 14)                112       \n",
      "                                                                 \n",
      " dense_13 (Dense)            (None, 30)                450       \n",
      "                                                                 \n",
      "=================================================================\n",
      "Total params: 1,168\n",
      "Trainable params: 1,168\n",
      "Non-trainable params: 0\n",
      "_________________________________________________________________\n"
     ]
    }
   ],
   "source": [
    "input_layer = tf.keras.layers.Input(shape=(train_data.shape[1],))\n",
    "encoder = tf.keras.layers.Dense(14, activation=\"tanh\")(input_layer)\n",
    "encoder = tf.keras.layers.Dropout(0.2)(encoder)\n",
    "encoder = tf.keras.layers.Dense(7, activation='relu')(encoder)\n",
    "encoder = tf.keras.layers.Dense(4, activation=tf.nn.leaky_relu)(encoder)\n",
    "decoder = tf.keras.layers.Dense(7, activation='relu')(encoder)\n",
    "decoder = tf.keras.layers.Dropout(0.2)(decoder)\n",
    "decoder = tf.keras.layers.Dense(14, activation='relu')(decoder)\n",
    "decoder = tf.keras.layers.Dense(train_data.shape[1], activation='tanh')(decoder)\n",
    "\n",
    "autoencoder = tf.keras.Model(inputs=input_layer, outputs=decoder)\n",
    "autoencoder.compile(metrics=['accuracy'], loss='mean_squared_error', optimizer='adam')\n",
    "autoencoder.summary()\n"
   ]
  },
  {
   "cell_type": "code",
   "execution_count": 21,
   "metadata": {},
   "outputs": [
    {
     "name": "stdout",
     "output_type": "stream",
     "text": [
      "Epoch 1/50\n"
     ]
    },
    {
     "name": "stderr",
     "output_type": "stream",
     "text": [
      "2024-10-27 20:32:18.682163: W tensorflow/tsl/platform/profile_utils/cpu_utils.cc:128] Failed to get CPU frequency: 0 Hz\n"
     ]
    },
    {
     "name": "stdout",
     "output_type": "stream",
     "text": [
      "3116/3116 [==============================] - 3s 733us/step - loss: 0.0043 - accuracy: 0.0342 - val_loss: 1.9889e-05 - val_accuracy: 0.0250\n",
      "Epoch 2/50\n",
      "3116/3116 [==============================] - 2s 684us/step - loss: 2.0244e-05 - accuracy: 0.0551 - val_loss: 2.0047e-05 - val_accuracy: 6.3200e-04\n",
      "Epoch 3/50\n",
      "3116/3116 [==============================] - 2s 687us/step - loss: 2.0299e-05 - accuracy: 0.0634 - val_loss: 2.0318e-05 - val_accuracy: 0.1267\n",
      "Epoch 4/50\n",
      "3116/3116 [==============================] - 2s 652us/step - loss: 2.0425e-05 - accuracy: 0.0631 - val_loss: 2.0551e-05 - val_accuracy: 0.0417\n",
      "Epoch 5/50\n",
      "3116/3116 [==============================] - 2s 705us/step - loss: 2.0414e-05 - accuracy: 0.0593 - val_loss: 2.0642e-05 - val_accuracy: 0.2177\n",
      "Epoch 6/50\n",
      "3116/3116 [==============================] - 2s 706us/step - loss: 2.0427e-05 - accuracy: 0.0606 - val_loss: 2.0391e-05 - val_accuracy: 0.2177\n",
      "Epoch 7/50\n",
      "3116/3116 [==============================] - 2s 685us/step - loss: 2.0419e-05 - accuracy: 0.0604 - val_loss: 2.0249e-05 - val_accuracy: 0.0079\n",
      "Epoch 8/50\n",
      "3116/3116 [==============================] - 2s 716us/step - loss: 2.0402e-05 - accuracy: 0.0587 - val_loss: 2.0593e-05 - val_accuracy: 0.0360\n",
      "Epoch 9/50\n",
      "3116/3116 [==============================] - 2s 688us/step - loss: 2.0399e-05 - accuracy: 0.0603 - val_loss: 2.0662e-05 - val_accuracy: 0.1267\n",
      "Epoch 10/50\n",
      "3116/3116 [==============================] - 2s 685us/step - loss: 2.0389e-05 - accuracy: 0.0597 - val_loss: 2.0794e-05 - val_accuracy: 0.0136\n",
      "Epoch 11/50\n",
      "3116/3116 [==============================] - 2s 730us/step - loss: 2.0383e-05 - accuracy: 0.0585 - val_loss: 2.0458e-05 - val_accuracy: 0.1267\n"
     ]
    }
   ],
   "source": [
    "early_stop = tf.keras.callbacks.EarlyStopping(monitor='val_loss', patience=10, restore_best_weights=True)\n",
    "history = autoencoder.fit(\n",
    "    train_data, train_data,\n",
    "    epochs=50,\n",
    "    batch_size=64,\n",
    "    validation_data=(test_data, test_data),\n",
    "    shuffle=True,\n",
    "    callbacks=[early_stop]\n",
    ")\n",
    "\n",
    "\n"
   ]
  },
  {
   "cell_type": "code",
   "execution_count": 10,
   "metadata": {},
   "outputs": [
    {
     "name": "stdout",
     "output_type": "stream",
     "text": [
      "Model: \"model_1\"\n",
      "_________________________________________________________________\n",
      " Layer (type)                Output Shape              Param #   \n",
      "=================================================================\n",
      " input_2 (InputLayer)        [(None, 30)]              0         \n",
      "                                                                 \n",
      " dense_4 (Dense)             (None, 16)                496       \n",
      "                                                                 \n",
      " dense_5 (Dense)             (None, 8)                 136       \n",
      "                                                                 \n",
      " dense_6 (Dense)             (None, 16)                144       \n",
      "                                                                 \n",
      " dense_7 (Dense)             (None, 30)                510       \n",
      "                                                                 \n",
      "=================================================================\n",
      "Total params: 1,286\n",
      "Trainable params: 1,286\n",
      "Non-trainable params: 0\n",
      "_________________________________________________________________\n"
     ]
    }
   ],
   "source": [
    "# Encoder\n",
    "input_layer = tf.keras.layers.Input(shape=(input_dim,))\n",
    "encoder = tf.keras.layers.Dense(encoding_dim, activation=\"relu\")(input_layer)\n",
    "encoder = tf.keras.layers.Dense(8, activation=\"relu\")(encoder)\n",
    "\n",
    "# Step 4: Decoder - Convert Latent Representation Back to Original Input\n",
    "decoder = tf.keras.layers.Dense(encoding_dim, activation=\"relu\")(encoder)\n",
    "decoder = tf.keras.layers.Dense(input_dim, activation=\"sigmoid\")(decoder)\n",
    "\n",
    "# Autoencoder Model\n",
    "autoencoder = tf.keras.models.Model(inputs=input_layer, outputs=decoder)\n",
    "autoencoder.summary()"
   ]
  },
  {
   "cell_type": "code",
   "execution_count": 22,
   "metadata": {},
   "outputs": [
    {
     "name": "stdout",
     "output_type": "stream",
     "text": [
      "Epoch 1/50\n",
      "3116/3116 [==============================] - 2s 736us/step - loss: 2.0443e-05 - accuracy: 0.0591 - val_loss: 2.0299e-05 - val_accuracy: 0.0264\n",
      "Epoch 2/50\n",
      "3116/3116 [==============================] - 2s 687us/step - loss: 2.0421e-05 - accuracy: 0.0621 - val_loss: 2.0415e-05 - val_accuracy: 0.2177\n",
      "Epoch 3/50\n",
      "3116/3116 [==============================] - 2s 678us/step - loss: 2.0409e-05 - accuracy: 0.0571 - val_loss: 2.1907e-05 - val_accuracy: 0.0250\n",
      "Epoch 4/50\n",
      "3116/3116 [==============================] - 2s 704us/step - loss: 2.0421e-05 - accuracy: 0.0599 - val_loss: 2.0967e-05 - val_accuracy: 0.0110\n",
      "Epoch 5/50\n",
      "3116/3116 [==============================] - 2s 694us/step - loss: 2.0408e-05 - accuracy: 0.0570 - val_loss: 2.0306e-05 - val_accuracy: 0.0110\n",
      "Epoch 6/50\n",
      "3116/3116 [==============================] - 2s 696us/step - loss: 2.0390e-05 - accuracy: 0.0594 - val_loss: 2.0608e-05 - val_accuracy: 0.0810\n",
      "Epoch 7/50\n",
      "3116/3116 [==============================] - 2s 686us/step - loss: 2.0386e-05 - accuracy: 0.0609 - val_loss: 2.0380e-05 - val_accuracy: 0.2177\n",
      "Epoch 8/50\n",
      "3116/3116 [==============================] - 2s 744us/step - loss: 2.0384e-05 - accuracy: 0.0580 - val_loss: 2.0897e-05 - val_accuracy: 0.0250\n",
      "Epoch 9/50\n",
      "3116/3116 [==============================] - 2s 679us/step - loss: 2.0377e-05 - accuracy: 0.0587 - val_loss: 2.0220e-05 - val_accuracy: 0.2177\n",
      "Epoch 10/50\n",
      "3116/3116 [==============================] - 2s 702us/step - loss: 2.0370e-05 - accuracy: 0.0589 - val_loss: 2.2373e-05 - val_accuracy: 0.0666\n",
      "Epoch 11/50\n",
      "3116/3116 [==============================] - 2s 684us/step - loss: 2.0373e-05 - accuracy: 0.0582 - val_loss: 2.0277e-05 - val_accuracy: 0.0212\n",
      "Epoch 12/50\n",
      "3116/3116 [==============================] - 2s 702us/step - loss: 2.0365e-05 - accuracy: 0.0575 - val_loss: 2.0252e-05 - val_accuracy: 0.0275\n",
      "Epoch 13/50\n",
      "3116/3116 [==============================] - 2s 680us/step - loss: 2.0359e-05 - accuracy: 0.0618 - val_loss: 2.0230e-05 - val_accuracy: 6.3200e-04\n",
      "Epoch 14/50\n",
      "3116/3116 [==============================] - 2s 679us/step - loss: 2.0373e-05 - accuracy: 0.0614 - val_loss: 2.0199e-05 - val_accuracy: 0.2177\n",
      "Epoch 15/50\n",
      "3116/3116 [==============================] - 2s 702us/step - loss: 2.0345e-05 - accuracy: 0.0581 - val_loss: 2.0255e-05 - val_accuracy: 0.0551\n",
      "Epoch 16/50\n",
      "3116/3116 [==============================] - 2s 677us/step - loss: 2.0347e-05 - accuracy: 0.0581 - val_loss: 2.0327e-05 - val_accuracy: 0.0810\n",
      "Epoch 17/50\n",
      "3116/3116 [==============================] - 2s 704us/step - loss: 2.0334e-05 - accuracy: 0.0593 - val_loss: 2.0420e-05 - val_accuracy: 0.0666\n",
      "Epoch 18/50\n",
      "3116/3116 [==============================] - 2s 716us/step - loss: 2.0337e-05 - accuracy: 0.0596 - val_loss: 2.0474e-05 - val_accuracy: 0.2177\n",
      "Epoch 19/50\n",
      "3116/3116 [==============================] - 2s 714us/step - loss: 2.0333e-05 - accuracy: 0.0619 - val_loss: 2.0177e-05 - val_accuracy: 0.0025\n",
      "Epoch 20/50\n",
      "3116/3116 [==============================] - 2s 687us/step - loss: 2.0327e-05 - accuracy: 0.0571 - val_loss: 2.0197e-05 - val_accuracy: 0.0417\n",
      "Epoch 21/50\n",
      "3116/3116 [==============================] - 2s 708us/step - loss: 2.0310e-05 - accuracy: 0.0599 - val_loss: 2.0550e-05 - val_accuracy: 0.0666\n",
      "Epoch 22/50\n",
      "3116/3116 [==============================] - 2s 684us/step - loss: 2.0310e-05 - accuracy: 0.0595 - val_loss: 2.0102e-05 - val_accuracy: 0.2177\n",
      "Epoch 23/50\n",
      "3116/3116 [==============================] - 2s 705us/step - loss: 2.0314e-05 - accuracy: 0.0609 - val_loss: 2.0381e-05 - val_accuracy: 0.0136\n",
      "Epoch 24/50\n",
      "3116/3116 [==============================] - 2s 686us/step - loss: 2.0315e-05 - accuracy: 0.0610 - val_loss: 2.0257e-05 - val_accuracy: 0.0608\n",
      "Epoch 25/50\n",
      "3116/3116 [==============================] - 2s 708us/step - loss: 2.0304e-05 - accuracy: 0.0555 - val_loss: 2.0316e-05 - val_accuracy: 0.0417\n",
      "Epoch 26/50\n",
      "3116/3116 [==============================] - 2s 684us/step - loss: 2.0289e-05 - accuracy: 0.0616 - val_loss: 2.0241e-05 - val_accuracy: 0.0242\n",
      "Epoch 27/50\n",
      "3116/3116 [==============================] - 2s 705us/step - loss: 2.0289e-05 - accuracy: 0.0596 - val_loss: 2.0281e-05 - val_accuracy: 0.2177\n",
      "Epoch 28/50\n",
      "3116/3116 [==============================] - 2s 685us/step - loss: 2.0296e-05 - accuracy: 0.0588 - val_loss: 2.0181e-05 - val_accuracy: 0.0212\n",
      "Epoch 29/50\n",
      "3116/3116 [==============================] - 2s 706us/step - loss: 2.0289e-05 - accuracy: 0.0608 - val_loss: 2.0224e-05 - val_accuracy: 0.2177\n",
      "Epoch 30/50\n",
      "3116/3116 [==============================] - 2s 689us/step - loss: 2.0284e-05 - accuracy: 0.0607 - val_loss: 2.0136e-05 - val_accuracy: 0.0275\n",
      "Epoch 31/50\n",
      "3116/3116 [==============================] - 2s 726us/step - loss: 2.0277e-05 - accuracy: 0.0605 - val_loss: 2.0574e-05 - val_accuracy: 0.0417\n",
      "Epoch 32/50\n",
      "3116/3116 [==============================] - 2s 682us/step - loss: 2.0283e-05 - accuracy: 0.0646 - val_loss: 2.0227e-05 - val_accuracy: 0.0037\n"
     ]
    }
   ],
   "source": [
    "early_stop = tf.keras.callbacks.EarlyStopping(monitor='val_loss', patience=10, restore_best_weights=True)\n",
    "history = autoencoder.fit(\n",
    "    train_data, train_data,\n",
    "    epochs=50,\n",
    "    batch_size=64,\n",
    "    validation_data=(test_data, test_data),\n",
    "    shuffle=True,\n",
    "    callbacks=[early_stop]\n",
    ")\n"
   ]
  },
  {
   "cell_type": "code",
   "execution_count": 23,
   "metadata": {},
   "outputs": [
    {
     "name": "stdout",
     "output_type": "stream",
     "text": [
      "2671/2671 [==============================] - 1s 272us/step\n"
     ]
    }
   ],
   "source": [
    "test_predictions = autoencoder.predict(test_data)\n",
    "mse = np.mean(np.power(test_data - test_predictions, 2), axis=1)\n",
    "error_df = pd.DataFrame({'Reconstruction_error': mse, 'True_class': test_labels})\n"
   ]
  },
  {
   "cell_type": "code",
   "execution_count": 24,
   "metadata": {},
   "outputs": [
    {
     "data": {
      "image/png": "[encoded data removed]",
      "text/plain": [
       "<Figure size 400x400 with 2 Axes>"
      ]
     },
     "metadata": {},
     "output_type": "display_data"
    },
    {
     "name": "stdout",
     "output_type": "stream",
     "text": [
      "Accuracy: 0.99833807333544\n",
      "Recall: 0.0\n",
      "Precision: 0.0\n"
     ]
    },
    {
     "name": "stderr",
     "output_type": "stream",
     "text": [
      "/opt/anaconda3/lib/python3.11/site-packages/sklearn/metrics/_classification.py:1344: UndefinedMetricWarning: Precision is ill-defined and being set to 0.0 due to no predicted samples. Use `zero_division` parameter to control this behavior.\n",
      "  _warn_prf(average, modifier, msg_start, len(result))\n"
     ]
    }
   ],
   "source": [
    "threshold_fixed = 50  # Define an appropriate threshold\n",
    "predictions = [1 if e > threshold_fixed else 0 for e in error_df.Reconstruction_error.values]\n",
    "error_df['pred'] = predictions\n",
    "\n",
    "conf_matrix = confusion_matrix(error_df.True_class, predictions)\n",
    "plt.figure(figsize=(4, 4))\n",
    "sns.heatmap(conf_matrix, xticklabels=LABELS, yticklabels=LABELS, annot=True, fmt=\"d\")\n",
    "plt.show()\n",
    "print(\"Accuracy:\", accuracy_score(error_df.True_class, predictions))\n",
    "print(\"Recall:\", recall_score(error_df.True_class, predictions))\n",
    "print(\"Precision:\", precision_score(error_df.True_class, predictions))\n"
   ]
  },
  {
   "cell_type": "code",
   "execution_count": null,
   "metadata": {},
   "outputs": [],
   "source": []
  }
 ],
 "metadata": {
  "kernelspec": {
   "display_name": "base",
   "language": "python",
   "name": "python3"
  },
  "language_info": {
   "codemirror_mode": {
    "name": "ipython",
    "version": 3
   },
   "file_extension": ".py",
   "mimetype": "text/x-python",
   "name": "python",
   "nbconvert_exporter": "python",
   "pygments_lexer": "ipython3",
   "version": "3.11.5"
  }
 },
 "nbformat": 4,
 "nbformat_minor": 2
}
